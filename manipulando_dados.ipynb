{
  "nbformat": 4,
  "nbformat_minor": 0,
  "metadata": {
    "colab": {
      "name": "manipulando_dados.ipynb",
      "provenance": [],
      "authorship_tag": "ABX9TyN1Fasr0L4ib747UzdLPxRv"
    },
    "kernelspec": {
      "name": "python3",
      "display_name": "Python 3"
    },
    "language_info": {
      "name": "python"
    }
  },
  "cells": [
    {
      "cell_type": "code",
      "execution_count": 1,
      "metadata": {
        "id": "JsbTNtdhUuVF"
      },
      "outputs": [],
      "source": [
        "# atualizando a lib\n",
        "!pip install -U openpyxl -q"
      ]
    },
    {
      "cell_type": "code",
      "source": [
        "from openpyxl import load_workbook\n",
        "\n",
        "workbook = load_workbook(filename='sample.xlsx')\n",
        "sheet = workbook.active\n",
        "\n"
      ],
      "metadata": {
        "id": "gEmmwdDYdLAb"
      },
      "execution_count": 3,
      "outputs": []
    },
    {
      "cell_type": "code",
      "source": [
        "for row in sheet.iter_rows(max_row=1,max_col=3,values_only=True):\n",
        "  print(row)"
      ],
      "metadata": {
        "colab": {
          "base_uri": "https://localhost:8080/"
        },
        "id": "oY8J7eYod0j6",
        "outputId": "aff30889-cc9e-400c-e541-1c89431ef5cd"
      },
      "execution_count": 6,
      "outputs": [
        {
          "output_type": "stream",
          "name": "stdout",
          "text": [
            "('marketplace', 'customer_id', 'review_id')\n"
          ]
        }
      ]
    },
    {
      "cell_type": "code",
      "source": [
        "for row in sheet.iter_rows(min_row=2,\n",
        "                           min_col=4,\n",
        "                           max_col=7,\n",
        "                           values_only=True):\n",
        "  print(row)"
      ],
      "metadata": {
        "colab": {
          "base_uri": "https://localhost:8080/"
        },
        "id": "eGflpbRHfWEb",
        "outputId": "138b5015-8459-42d4-d147-68809939266a"
      },
      "execution_count": 12,
      "outputs": [
        {
          "output_type": "stream",
          "name": "stdout",
          "text": [
            "('B00FALQ1ZC', 937001370, 'Invicta Women\\'s 15150 \"Angel\" 18k Yellow Gold Ion-Plated Stainless Steel and Brown Leather Watch', 'Watches')\n",
            "('B00D3RGO20', 484010722, \"Kenneth Cole New York Women's KC4944 Automatic Silver Automatic Mesh Bracelet Analog Watch\", 'Watches')\n",
            "('B00DKYC7TK', 361166390, 'Ritche 22mm Black Stainless Steel Bracelet Watch Band Strap Pebble Time/Pebble Classic', 'Watches')\n",
            "('B000EQS1JW', 958035625, \"Citizen Men's BM8180-03E Eco-Drive Stainless Steel Watch with Green Canvas Band\", 'Watches')\n",
            "('B00A6GFD7S', 765328221, \"Orient ER27009B Men's Symphony Automatic Stainless Steel Black Dial Mechanical Watch\", 'Watches')\n",
            "('B00EYSOSE8', 230493695, \"Casio Men's GW-9400BJ-1JF G-Shock Master of G Rangeman Digital Solar Black Carbon Fiber Insert Watch\", 'Watches')\n",
            "('B00WM0QA3M', 549298279, \"Fossil Women's ES3851 Urban Traveler Multifunction Stainless Steel Watch - Rose\", 'Watches')\n",
            "('B00A4EYBR0', 844009113, 'INFANTRY Mens Night Vision Analog Quartz Wrist Watch with Nato Nylon Watchband-Red.', 'Watches')\n",
            "('B00MAMPGGE', 263720892, \"G-Shock Men's Grey Sport Watch\", 'Watches')\n",
            "('B004LBPB7Q', 124278407, 'Heiden Quad Watch Winder in Black Leather', 'Watches')\n",
            "('B00KGTVGKS', 28017857, \"Fossil Women's ES3621 Serena Crystal-Accented Two-Tone Stainless Steel Watch\", 'Watches')\n",
            "('B0039UT5OU', 685450910, \"Casio General Men's Watches Sporty Digital AE-2000W-1AVDF - WW\", 'Watches')\n",
            "('B00MPF0XJQ', 767769082, '2Tone Gold Silver Cable Band Ladies Bangle Cuff Watch', 'Watches')\n",
            "('B003P1OHHS', 648595227, \"Bulova Men's 98B143 Precisionist Charcoal Grey Dial Bracelet Watch\", 'Watches')\n",
            "('B00R70YEOE', 457338020, 'Casio - G-Shock - Gulfmaster - Black - GWN1000C-1A', 'Watches')\n",
            "('B000FVE3BG', 824370661, \"Invicta Men's 3329 Force Collection Lefty Watch\", 'Watches')\n",
            "('B008X6JB12', 814431355, \"Seiko Women's SUT068 Dress Solar Classic Diamond-Accented Two-Tone Stainless Steel Watch\", 'Watches')\n",
            "('B0040UOFPW', 187700878, \"Anne Klein Women's 109271MPTT Swarovski Crystal Accented Two-Tone Multi-Chain Bracelet Watch\", 'Watches')\n",
            "('B00UR2R5UY', 594315262, \"Guess U13630G1 Men's day and date Gunmetal dial Gunmetal tone bracelet\", 'Watches')\n",
            "('B00HFF57L0', 520810507, \"Nixon Men's Geo Volt Sentry Stainless Steel Watch with Link Bracelet\", 'Watches')\n",
            "('B00F5O06E6', 601596859, \"Nautica Men's N14699G BFD 101 Chrono Classic Stainless Steel Watch with Brown Band\", 'Watches')\n",
            "('B00CHS398I', 798261110, 'HDE Watch Link Pin Remover Band Strap Repair Tool Kit for Watchmakers with Pack of 3 Extra Pins', 'Watches')\n",
            "('B003OQ4TA4', 557813802, \"Timex Women's Q7B860 Padded Calfskin 8mm Black Replacement Watchband\", 'Watches')\n",
            "('B007X0SYEY', 22870009, 'Movado Men\\'s 0606545 \"Museum\" Perforated Black-Rubber Strap Sport Watch', 'Watches')\n",
            "('B005KPL7FM', 269520616, \"Invicta Men's 6674 Corduba Chronograph Black Dial Polyurethane Watch\", 'Watches')\n",
            "('B00FNIFI2O', 330558574, \"Szanto Men's SZ 2001 2000 Series Classic Vintage-Inspired Stainless Steel Watch with Pebbled Leather Band\", 'Watches')\n",
            "('B005JVP0FU', 220345054, \"Casio Men's MRW200H-7EV Sport Resin Watch\", 'Watches')\n",
            "('B004M23SDI', 299884359, 'Casio F-108WH-2AEF Mens Blue Digital Watch', 'Watches')\n",
            "('B00RV2L8CE', 714311106, \"August Steiner Men's AS8160TTG Silver And Gold Swiss Quartz Watch with Black Dial and Two Tone Bracelet\", 'Watches')\n",
            "('B000JQJS6M', 926299553, \"Invicta Men's 8928OB Pro Diver Gold Stainless Steel Two-Tone Automatic Watch\", 'Watches')\n",
            "('B00VXLJD44', 578998634, \"BOS Men's Automatic self-wind mechanical Pointer Skeleton Watch Black Dial Stainless Steel Band 9008\", 'Watches')\n",
            "('B004EFGBW8', 727624097, \"Luminox Men's 3081 Evo Navy SEAL Chronograph Watch\", 'Watches')\n",
            "('B00G9X76DG', 86861596, 'INFANTRY Mens 50mm Big Face Military Tactical Analog Digital Sport Wrist Watch Black Silicone Band', 'Watches')\n",
            "('B00SFTTZ9U', 8403354, \"BUREI Dress Women's Minimalist Wrist Watches with Date Analog Quartz Stainless Steel and Ultra Slim Dial\", 'Watches')\n",
            "('B00NC8PMUK', 944169262, 'Motorola Moto 360 Modern Timepiece Smart Watch - Black Leather 00418NARTL', 'Watches')\n",
            "('B00C1C5J9W', 851584415, 'Domire Fashion Accessories Trial Order New Quartz Fashion Weave Wrap Around Leather Bracelet Lady Woman Butterfly Wrist Watch', 'Watches')\n",
            "('B000GB0G5M', 492842685, \"Casio Women's LQ139B-1B Classic Round Analog Watch\", 'Watches')\n",
            "('B00F8AWMXA', 397647155, \"Invicta Men's 15256 I-Force Gunmetal Ion-Plated Stainless Steel Watch with Black Leather Strap\", 'Watches')\n",
            "('B005MDPAPU', 645499118, \"Casio Men's Slim Solar Multi-Function Analog-Digital Watch\", 'Watches')\n",
            "('B006C8NJY8', 865472849, 'TS6202BLK 8 Belt Box Organizer Black Leather XL Compartments', 'Watches')\n",
            "('B00791YURC', 310034618, \"Casio Men's GW2310FB-1CR G-Shock Shock Resistant Multifunction Watch\", 'Watches')\n",
            "('B00S69FO0I', 406011595, \"U.S. Polo Assn. Sport Men's US9506 Analog-Digital Display Silver-Tone Watch with Textured Band\", 'Watches')\n",
            "('B00C7IQBRY', 201258316, \"Cerentino Women's CR106-TQ  Turquoise Silicone Rubber Rhinestones Watch\", 'Watches')\n",
            "('B009S4U1TY', 830280907, \"Batman Kids' BAT4072 Black Rubber Batman Logo Strap Watch\", 'Watches')\n",
            "('B000B55AEA', 851729310, 'Timex Easy Reader Day-Date Leather Strap Watch', 'Watches')\n",
            "('B0053HDR78', 576694666, 'Casio F108WH Water Resistant Digital Blue Resin Strap Watch', 'Watches')\n",
            "('B00NC8PMUK', 944169262, 'Motorola Moto 360 Modern Timepiece Smart Watch - Black Leather 00418NARTL', 'Watches')\n",
            "('B008OIOLQO', 340110662, \"Ingersoll Men's IN1824CR Monticello Fine Automatic Timepiece Cream Dial Watch\", 'Watches')\n",
            "('B009PQB036', 696981257, \"Lucien Piccard Men's 11576-YG-01 Clariden Black Textured Dial Watch\", 'Watches')\n",
            "('B007X0E178', 953514677, \"XOXO Women's XO5478 Rhinestone-Accented Two-Tone Watch\", 'Watches')\n",
            "('B00BXQSHRI', 714629498, 'Watch Case Press with 12 Nylon Dies, Watch Case Closer Set', 'Watches')\n",
            "('B00ZI3SGXM', 294102740, \"Stuhrling Original Women's 956.02 Symphony Gold-Tone Watch with Brown Genuine Leather Band\", 'Watches')\n",
            "('B0053A0HB4', 199546574, 'Casio G-shock Mudman Multiband6 Japanese Model [ Gw-9300-1jf ]', 'Watches')\n",
            "('B00QBTQX50', 29617990, 'iStrap Calfskin Leather Watch Band Replacement Choice of Color & Width (18mm,19mm, 20mm,21mm or 22mm)', 'Watches')\n",
            "('B00G3JSF22', 978361500, \"G-SHOCK Men's GA-100 Neon Highlights Watch\", 'Watches')\n",
            "('B002NQXYL6', 161383158, 'Voguestrap TX046801XL Allstrap 16-20mm Brown Extra-Long-Length Fits Fast-Wrap Expedition Watchband', 'Watches')\n",
            "('B004MAZN3I', 165342893, \"Seiko Men's SNKK27 Seiko 5 Stainless Steel Automatic Watch\", 'Watches')\n",
            "('B000JQFX1G', 400836338, \"Invicta Men's 8926OB Pro Diver Stainless Steel Automatic Watch with Link Bracelet\", 'Watches')\n",
            "('B00A6B9N6U', 491671113, \"Swiss Legend Women's 11044D-01 Neptune Black Dial Watch with Silicone Band\", 'Watches')\n",
            "('B00HJ7T0OY', 822340800, \"Absolute Hot Iron man Super Hero build-in Blue LED for Men's luxury Army military Wrist Watches\", 'Watches')\n",
            "('B004401KHE', 604208769, \"Seiko Men's White Dial Brown Leather Easy Reader Solar Calendar Watch\", 'Watches')\n",
            "('B001UGDB0O', 762085956, 'Michael Kors Womens MK5145 - Runway Chronograph', 'Watches')\n",
            "('B00L4JRXIS', 627047973, \"Armitron Sport Women's 25/6416 Easy To Read Dial Resin Strap Watch\", 'Watches')\n",
            "('B009PQB5K4', 418141913, \"Lucien Piccard Men's 11577-RG-02S Stockhorn Silver Textured Dial Brown Leather Watch\", 'Watches')\n",
            "('B003M2G0SY', 908936114, 'LEGO Star Wars Yoda Kids Buildable Watch with Link Bracelet and Minifigure | green/gray | plastic | 28mm case diameter| analog quartz | boy girl | official', 'Watches')\n",
            "('B002SSUQFG', 354933056, \"Seiko Men's SNK809 Seiko 5 Automatic Stainless Steel Watch with Black Canvas Strap\", 'Watches')\n",
            "('B003622WUK', 890272218, \"Tissot Women's T0492103303300 PR 100 Gold-Tone Silver Dial Watch\", 'Watches')\n",
            "('B00L8M9Z32', 686288185, \"CASIO BABY-G (BG-6900SG-8JF) GLITTER DIAL SERIES LADY'S WATCH JAPANESE MODEL 2014 JULY RELEASED\", 'Watches')\n",
            "('B000GAWSA4', 700023949, \"Casio Men's AW80V-1BV\", 'Watches')\n",
            "('B004YM2FV2', 649128875, 'Bling Jewelry Plated Classic Round CZ Ladies Watch', 'Watches')\n",
            "('B008RNKIV8', 341504925, \"Citizen Men's AT8020-54L Blue Angels Stainless Steel Eco-Drive Dress Watch\", 'Watches')\n",
            "('B000SZNTLO', 544270597, 'Timex Ironman Sleek 50-Lap Full Size', 'Watches')\n",
            "('B00MNC53XW', 567086073, 'Outop Wholesale Lot of 5pcs Womens Girls Butterfly Bracelet Wrist Watches', 'Watches')\n",
            "('B00BF77S2K', 479360900, \"Timex Kids' T7B9829J IronKids Translucent Blue Sport Watch\", 'Watches')\n",
            "('B00OHD6SLG', 721711830, \"Cool Men's Racer Military Pilot Army Silicone Sports Watch\", 'Watches')\n",
            "('B003DIP9BQ', 941077778, \"XOXO Women's XO110 Silver Dial Gold-tone Bracelet Watch\", 'Watches')\n",
            "('B00L3VGTA0', 667419707, \"Armitron Men's Black Sunray Dial Silvertone Bracelet Watch\", 'Watches')\n",
            "('B00RCUTIRM', 731342946, \"Akribos XXIV Men's AK787YGBU Quartz Movement Watch with Blue Dial and Yellow Gold Stainless Steel Bracelet\", 'Watches')\n",
            "('B00V30U79K', 18936638, 'Topwell Mens Wood watches, Date Time 24hours Wooden watch with Round Multi-Eyed QUARTZ Wrist Watch for Gift', 'Watches')\n",
            "('B00STAXIHU', 690763506, \"Fossil Women's ES3822 Georgia Stainless Steel Watch with Blue Leather Band\", 'Watches')\n",
            "('B00DUW21F2', 87555656, \"Stuhrling Original Men's 574.03 Analog Executive II Stainless Steel Automatic Skeleton Watch with Brown Leather Band\", 'Watches')\n",
            "('B00MO38XL4', 476271516, \"Armitron Sport Women's 25/6422BLK Easy to Read Dial Black Resin Strap Watch\", 'Watches')\n",
            "('B00K8HMHCE', 575505209, \"Swiss Legend Men's 10068-03 Commander II Analog Display Swiss Quartz Blue Watch\", 'Watches')\n",
            "('B001DK6OKQ', 79293794, \"Stuhrling Original Men's 219.331657 Symphony Eternity Monterey Swiss Quartz Date Watch\", 'Watches')\n",
            "('B0094PS284', 842528710, 'LuckyStore 14mm 5X Watch Band Stainless Steel Spring Bars Strap Link Pin Watchmaker New', 'Watches')\n",
            "('B00FDLB2S0', 992050854, \"red line Men's RL-50042-YG-01 Stealth Chronograph Black Textured Dial Black Silicone Watch\", 'Watches')\n",
            "('B00EVPMC88', 516415826, 'Seiko Men\\'s SNKL43 \"Seiko 5\" Stainless Steel Automatic Watch', 'Watches')\n",
            "('B00G2R7E3Q', 131804424, \"Invicta Men's 14640 I-Force Analog Display Japanese Quartz Black Watch\", 'Watches')\n",
            "('B004LURNO6', 892860326, 'Nemesis #HST-K Unisex Black Wide Leather Cuff Wrist Watch Band', 'Watches')\n",
            "('B005OT1POW', 202690497, \"Tommy Hilfiger  Women's 1781145 Sport Stainless Steel  Watch\", 'Watches')\n",
            "('B007LPRLXG', 973233011, 'GUESS U17531G1 - Bold and Sporty Watch Silver', 'Watches')\n",
            "('B00QK2HAFK', 78116254, \"Armitron Men's 20/5048 Day/Date Function Dial Croco-Grain Leather Strap Watch\", 'Watches')\n",
            "('B003X11UFM', 790174403, \"Stuhrling Original Men's 238.321K43 Ascot Newberry Analog Swiss Quartz Brown Leather Watch\", 'Watches')\n",
            "('B00A6OEWA4', 985088364, \"AMPM24 Men's Hand-winding Mechanical Watch Black Leather Watchband Skeleton PMW069\", 'Watches')\n",
            "('B006QAX906', 957756572, \"Gotham Men's Silver-Tone Ultra Thin Railroad Open Face Quartz Pocket Watch # GWC15022S\", 'Watches')\n",
            "('B00BS8U8PU', 132047116, 'Casio Unisex MRW200H-2BV Neo-Display Black Watch with Resin Band', 'Watches')\n",
            "('B001F0PTNM', 670846500, \"Hadley-Roma Men's MSM881RB-170 17-mm Brown Oil-Tan Leather Watch Strap\", 'Watches')\n",
            "('B00Q7DETQU', 763436398, 'Michael Kors Petite Silvertone Darci Watch', 'Watches')\n",
            "('B00LW3RP0W', 198443125, 'Timex Expedition Rugged Metal Watch', 'Watches')\n"
          ]
        }
      ]
    },
    {
      "cell_type": "code",
      "source": [
        "# criando um dicionário\n",
        "products = {}\n",
        "\n",
        "# salvando em um dicionário\n",
        "for row in sheet.iter_rows(min_row=2,\n",
        "                           min_col=4,\n",
        "                           max_col=7,\n",
        "                           values_only=True):\n",
        "  product_id = row[0]\n",
        "  product = {\n",
        "      \"parent\": row[1],\n",
        "      \"title\": row[2],\n",
        "      \"category\": row[3]\n",
        "  }\n",
        "  products[product_id] = product"
      ],
      "metadata": {
        "id": "BMXyzIPvebpt"
      },
      "execution_count": 7,
      "outputs": []
    },
    {
      "cell_type": "code",
      "source": [
        "products[\"B00D3RGO20\"][\"title\"]"
      ],
      "metadata": {
        "colab": {
          "base_uri": "https://localhost:8080/",
          "height": 35
        },
        "id": "GZX28e6gfMi8",
        "outputId": "d0019f97-4875-40d3-bd7b-aa8981d824b4"
      },
      "execution_count": 11,
      "outputs": [
        {
          "output_type": "execute_result",
          "data": {
            "text/plain": [
              "\"Kenneth Cole New York Women's KC4944 Automatic Silver Automatic Mesh Bracelet Analog Watch\""
            ],
            "application/vnd.google.colaboratory.intrinsic+json": {
              "type": "string"
            }
          },
          "metadata": {},
          "execution_count": 11
        }
      ]
    },
    {
      "cell_type": "code",
      "source": [
        "# verificando as chaves\n",
        "products.keys()"
      ],
      "metadata": {
        "colab": {
          "base_uri": "https://localhost:8080/"
        },
        "id": "0Hg49PeRfqcT",
        "outputId": "642b32b9-8588-4920-9d53-2d02d813f6cb"
      },
      "execution_count": 13,
      "outputs": [
        {
          "output_type": "execute_result",
          "data": {
            "text/plain": [
              "dict_keys(['B00FALQ1ZC', 'B00D3RGO20', 'B00DKYC7TK', 'B000EQS1JW', 'B00A6GFD7S', 'B00EYSOSE8', 'B00WM0QA3M', 'B00A4EYBR0', 'B00MAMPGGE', 'B004LBPB7Q', 'B00KGTVGKS', 'B0039UT5OU', 'B00MPF0XJQ', 'B003P1OHHS', 'B00R70YEOE', 'B000FVE3BG', 'B008X6JB12', 'B0040UOFPW', 'B00UR2R5UY', 'B00HFF57L0', 'B00F5O06E6', 'B00CHS398I', 'B003OQ4TA4', 'B007X0SYEY', 'B005KPL7FM', 'B00FNIFI2O', 'B005JVP0FU', 'B004M23SDI', 'B00RV2L8CE', 'B000JQJS6M', 'B00VXLJD44', 'B004EFGBW8', 'B00G9X76DG', 'B00SFTTZ9U', 'B00NC8PMUK', 'B00C1C5J9W', 'B000GB0G5M', 'B00F8AWMXA', 'B005MDPAPU', 'B006C8NJY8', 'B00791YURC', 'B00S69FO0I', 'B00C7IQBRY', 'B009S4U1TY', 'B000B55AEA', 'B0053HDR78', 'B008OIOLQO', 'B009PQB036', 'B007X0E178', 'B00BXQSHRI', 'B00ZI3SGXM', 'B0053A0HB4', 'B00QBTQX50', 'B00G3JSF22', 'B002NQXYL6', 'B004MAZN3I', 'B000JQFX1G', 'B00A6B9N6U', 'B00HJ7T0OY', 'B004401KHE', 'B001UGDB0O', 'B00L4JRXIS', 'B009PQB5K4', 'B003M2G0SY', 'B002SSUQFG', 'B003622WUK', 'B00L8M9Z32', 'B000GAWSA4', 'B004YM2FV2', 'B008RNKIV8', 'B000SZNTLO', 'B00MNC53XW', 'B00BF77S2K', 'B00OHD6SLG', 'B003DIP9BQ', 'B00L3VGTA0', 'B00RCUTIRM', 'B00V30U79K', 'B00STAXIHU', 'B00DUW21F2', 'B00MO38XL4', 'B00K8HMHCE', 'B001DK6OKQ', 'B0094PS284', 'B00FDLB2S0', 'B00EVPMC88', 'B00G2R7E3Q', 'B004LURNO6', 'B005OT1POW', 'B007LPRLXG', 'B00QK2HAFK', 'B003X11UFM', 'B00A6OEWA4', 'B006QAX906', 'B00BS8U8PU', 'B001F0PTNM', 'B00Q7DETQU', 'B00LW3RP0W'])"
            ]
          },
          "metadata": {},
          "execution_count": 13
        }
      ]
    },
    {
      "cell_type": "code",
      "source": [
        "# checando item\n",
        "products['B00FALQ1ZC']"
      ],
      "metadata": {
        "colab": {
          "base_uri": "https://localhost:8080/"
        },
        "id": "-FWQUCTdhnZw",
        "outputId": "92e8c3fb-9f26-4483-eca4-5c8c1aeb5045"
      },
      "execution_count": 14,
      "outputs": [
        {
          "output_type": "execute_result",
          "data": {
            "text/plain": [
              "{'category': 'Watches',\n",
              " 'parent': 937001370,\n",
              " 'title': 'Invicta Women\\'s 15150 \"Angel\" 18k Yellow Gold Ion-Plated Stainless Steel and Brown Leather Watch'}"
            ]
          },
          "metadata": {},
          "execution_count": 14
        }
      ]
    }
  ]
}