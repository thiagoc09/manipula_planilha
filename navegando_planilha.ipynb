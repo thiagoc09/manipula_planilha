{
  "nbformat": 4,
  "nbformat_minor": 0,
  "metadata": {
    "colab": {
      "name": "navegando_planilha.ipynb",
      "provenance": [],
      "authorship_tag": "ABX9TyP2tRtjA6KoSBCXRckqjTM9",
      "include_colab_link": true
    },
    "kernelspec": {
      "name": "python3",
      "display_name": "Python 3"
    },
    "language_info": {
      "name": "python"
    }
  },
  "cells": [
    {
      "cell_type": "markdown",
      "metadata": {
        "id": "view-in-github",
        "colab_type": "text"
      },
      "source": [
        "<a href=\"https://colab.research.google.com/github/thiagoc09/manipula_planilha/blob/main/navegando_planilha.ipynb\" target=\"_parent\"><img src=\"https://colab.research.google.com/assets/colab-badge.svg\" alt=\"Open In Colab\"/></a>"
      ]
    },
    {
      "cell_type": "code",
      "execution_count": 1,
      "metadata": {
        "id": "6JUL11-w5vN6"
      },
      "outputs": [],
      "source": [
        "!pip install -U openpyxl -q"
      ]
    },
    {
      "cell_type": "code",
      "source": [
        "# carregando uma planilha\n",
        "from openpyxl import load_workbook\n",
        "\n",
        "workbook = load_workbook(filename='controle_da_empresa.xlsx')\n",
        "\n",
        "# verificando as abas\n",
        "sheet = workbook['Vendas']"
      ],
      "metadata": {
        "id": "wv_1sPr590sV"
      },
      "execution_count": null,
      "outputs": []
    },
    {
      "cell_type": "code",
      "source": [
        "#carregando a planilha\n",
        "from openpyxl import load_workbook\n",
        "\n",
        "workbook = load_workbook(filename='controle_da_empresa.xlsx')\n",
        "\n",
        "sheet = workbook['Vendas']"
      ],
      "metadata": {
        "id": "wolL8PyP91Fe"
      },
      "execution_count": 3,
      "outputs": []
    },
    {
      "cell_type": "code",
      "source": [
        "#acessando um intervalo\n",
        "sheet[1:3]"
      ],
      "metadata": {
        "colab": {
          "base_uri": "https://localhost:8080/"
        },
        "id": "AFY2M915-KK_",
        "outputId": "18a437b3-3525-49a1-e2c5-9f30936f04e0"
      },
      "execution_count": 4,
      "outputs": [
        {
          "output_type": "execute_result",
          "data": {
            "text/plain": [
              "((<Cell 'Vendas'.A1>,\n",
              "  <Cell 'Vendas'.B1>,\n",
              "  <Cell 'Vendas'.C1>,\n",
              "  <Cell 'Vendas'.D1>,\n",
              "  <Cell 'Vendas'.E1>,\n",
              "  <Cell 'Vendas'.F1>),\n",
              " (<Cell 'Vendas'.A2>,\n",
              "  <Cell 'Vendas'.B2>,\n",
              "  <Cell 'Vendas'.C2>,\n",
              "  <Cell 'Vendas'.D2>,\n",
              "  <Cell 'Vendas'.E2>,\n",
              "  <Cell 'Vendas'.F2>),\n",
              " (<Cell 'Vendas'.A3>,\n",
              "  <Cell 'Vendas'.B3>,\n",
              "  <Cell 'Vendas'.C3>,\n",
              "  <Cell 'Vendas'.D3>,\n",
              "  <Cell 'Vendas'.E3>,\n",
              "  <Cell 'Vendas'.F3>))"
            ]
          },
          "metadata": {},
          "execution_count": 4
        }
      ]
    },
    {
      "cell_type": "code",
      "source": [
        "sheet['a':'c']"
      ],
      "metadata": {
        "colab": {
          "base_uri": "https://localhost:8080/"
        },
        "id": "OiX_05tt-Oow",
        "outputId": "24bd20d6-c6a9-4a53-b435-8b37a4cfb5db"
      },
      "execution_count": 6,
      "outputs": [
        {
          "output_type": "execute_result",
          "data": {
            "text/plain": [
              "((<Cell 'Vendas'.A1>,\n",
              "  <Cell 'Vendas'.A2>,\n",
              "  <Cell 'Vendas'.A3>,\n",
              "  <Cell 'Vendas'.A4>,\n",
              "  <Cell 'Vendas'.A5>,\n",
              "  <Cell 'Vendas'.A6>,\n",
              "  <Cell 'Vendas'.A7>,\n",
              "  <Cell 'Vendas'.A8>,\n",
              "  <Cell 'Vendas'.A9>,\n",
              "  <Cell 'Vendas'.A10>,\n",
              "  <Cell 'Vendas'.A11>,\n",
              "  <Cell 'Vendas'.A12>,\n",
              "  <Cell 'Vendas'.A13>,\n",
              "  <Cell 'Vendas'.A14>,\n",
              "  <Cell 'Vendas'.A15>,\n",
              "  <Cell 'Vendas'.A16>,\n",
              "  <Cell 'Vendas'.A17>,\n",
              "  <Cell 'Vendas'.A18>,\n",
              "  <Cell 'Vendas'.A19>,\n",
              "  <Cell 'Vendas'.A20>,\n",
              "  <Cell 'Vendas'.A21>,\n",
              "  <Cell 'Vendas'.A22>,\n",
              "  <Cell 'Vendas'.A23>,\n",
              "  <Cell 'Vendas'.A24>,\n",
              "  <Cell 'Vendas'.A25>,\n",
              "  <Cell 'Vendas'.A26>,\n",
              "  <Cell 'Vendas'.A27>,\n",
              "  <Cell 'Vendas'.A28>,\n",
              "  <Cell 'Vendas'.A29>,\n",
              "  <Cell 'Vendas'.A30>,\n",
              "  <Cell 'Vendas'.A31>,\n",
              "  <Cell 'Vendas'.A32>,\n",
              "  <Cell 'Vendas'.A33>,\n",
              "  <Cell 'Vendas'.A34>,\n",
              "  <Cell 'Vendas'.A35>,\n",
              "  <Cell 'Vendas'.A36>,\n",
              "  <Cell 'Vendas'.A37>,\n",
              "  <Cell 'Vendas'.A38>,\n",
              "  <Cell 'Vendas'.A39>,\n",
              "  <Cell 'Vendas'.A40>,\n",
              "  <Cell 'Vendas'.A41>,\n",
              "  <Cell 'Vendas'.A42>,\n",
              "  <Cell 'Vendas'.A43>,\n",
              "  <Cell 'Vendas'.A44>,\n",
              "  <Cell 'Vendas'.A45>,\n",
              "  <Cell 'Vendas'.A46>,\n",
              "  <Cell 'Vendas'.A47>,\n",
              "  <Cell 'Vendas'.A48>,\n",
              "  <Cell 'Vendas'.A49>,\n",
              "  <Cell 'Vendas'.A50>,\n",
              "  <Cell 'Vendas'.A51>,\n",
              "  <Cell 'Vendas'.A52>,\n",
              "  <Cell 'Vendas'.A53>,\n",
              "  <Cell 'Vendas'.A54>,\n",
              "  <Cell 'Vendas'.A55>,\n",
              "  <Cell 'Vendas'.A56>,\n",
              "  <Cell 'Vendas'.A57>,\n",
              "  <Cell 'Vendas'.A58>,\n",
              "  <Cell 'Vendas'.A59>,\n",
              "  <Cell 'Vendas'.A60>,\n",
              "  <Cell 'Vendas'.A61>,\n",
              "  <Cell 'Vendas'.A62>,\n",
              "  <Cell 'Vendas'.A63>,\n",
              "  <Cell 'Vendas'.A64>,\n",
              "  <Cell 'Vendas'.A65>,\n",
              "  <Cell 'Vendas'.A66>,\n",
              "  <Cell 'Vendas'.A67>,\n",
              "  <Cell 'Vendas'.A68>,\n",
              "  <Cell 'Vendas'.A69>,\n",
              "  <Cell 'Vendas'.A70>,\n",
              "  <Cell 'Vendas'.A71>,\n",
              "  <Cell 'Vendas'.A72>,\n",
              "  <Cell 'Vendas'.A73>,\n",
              "  <Cell 'Vendas'.A74>,\n",
              "  <Cell 'Vendas'.A75>,\n",
              "  <Cell 'Vendas'.A76>,\n",
              "  <Cell 'Vendas'.A77>,\n",
              "  <Cell 'Vendas'.A78>,\n",
              "  <Cell 'Vendas'.A79>,\n",
              "  <Cell 'Vendas'.A80>,\n",
              "  <Cell 'Vendas'.A81>,\n",
              "  <Cell 'Vendas'.A82>,\n",
              "  <Cell 'Vendas'.A83>,\n",
              "  <Cell 'Vendas'.A84>,\n",
              "  <Cell 'Vendas'.A85>,\n",
              "  <Cell 'Vendas'.A86>,\n",
              "  <Cell 'Vendas'.A87>,\n",
              "  <Cell 'Vendas'.A88>,\n",
              "  <Cell 'Vendas'.A89>,\n",
              "  <Cell 'Vendas'.A90>,\n",
              "  <Cell 'Vendas'.A91>),\n",
              " (<Cell 'Vendas'.B1>,\n",
              "  <Cell 'Vendas'.B2>,\n",
              "  <Cell 'Vendas'.B3>,\n",
              "  <Cell 'Vendas'.B4>,\n",
              "  <Cell 'Vendas'.B5>,\n",
              "  <Cell 'Vendas'.B6>,\n",
              "  <Cell 'Vendas'.B7>,\n",
              "  <Cell 'Vendas'.B8>,\n",
              "  <Cell 'Vendas'.B9>,\n",
              "  <Cell 'Vendas'.B10>,\n",
              "  <Cell 'Vendas'.B11>,\n",
              "  <Cell 'Vendas'.B12>,\n",
              "  <Cell 'Vendas'.B13>,\n",
              "  <Cell 'Vendas'.B14>,\n",
              "  <Cell 'Vendas'.B15>,\n",
              "  <Cell 'Vendas'.B16>,\n",
              "  <Cell 'Vendas'.B17>,\n",
              "  <Cell 'Vendas'.B18>,\n",
              "  <Cell 'Vendas'.B19>,\n",
              "  <Cell 'Vendas'.B20>,\n",
              "  <Cell 'Vendas'.B21>,\n",
              "  <Cell 'Vendas'.B22>,\n",
              "  <Cell 'Vendas'.B23>,\n",
              "  <Cell 'Vendas'.B24>,\n",
              "  <Cell 'Vendas'.B25>,\n",
              "  <Cell 'Vendas'.B26>,\n",
              "  <Cell 'Vendas'.B27>,\n",
              "  <Cell 'Vendas'.B28>,\n",
              "  <Cell 'Vendas'.B29>,\n",
              "  <Cell 'Vendas'.B30>,\n",
              "  <Cell 'Vendas'.B31>,\n",
              "  <Cell 'Vendas'.B32>,\n",
              "  <Cell 'Vendas'.B33>,\n",
              "  <Cell 'Vendas'.B34>,\n",
              "  <Cell 'Vendas'.B35>,\n",
              "  <Cell 'Vendas'.B36>,\n",
              "  <Cell 'Vendas'.B37>,\n",
              "  <Cell 'Vendas'.B38>,\n",
              "  <Cell 'Vendas'.B39>,\n",
              "  <Cell 'Vendas'.B40>,\n",
              "  <Cell 'Vendas'.B41>,\n",
              "  <Cell 'Vendas'.B42>,\n",
              "  <Cell 'Vendas'.B43>,\n",
              "  <Cell 'Vendas'.B44>,\n",
              "  <Cell 'Vendas'.B45>,\n",
              "  <Cell 'Vendas'.B46>,\n",
              "  <Cell 'Vendas'.B47>,\n",
              "  <Cell 'Vendas'.B48>,\n",
              "  <Cell 'Vendas'.B49>,\n",
              "  <Cell 'Vendas'.B50>,\n",
              "  <Cell 'Vendas'.B51>,\n",
              "  <Cell 'Vendas'.B52>,\n",
              "  <Cell 'Vendas'.B53>,\n",
              "  <Cell 'Vendas'.B54>,\n",
              "  <Cell 'Vendas'.B55>,\n",
              "  <Cell 'Vendas'.B56>,\n",
              "  <Cell 'Vendas'.B57>,\n",
              "  <Cell 'Vendas'.B58>,\n",
              "  <Cell 'Vendas'.B59>,\n",
              "  <Cell 'Vendas'.B60>,\n",
              "  <Cell 'Vendas'.B61>,\n",
              "  <Cell 'Vendas'.B62>,\n",
              "  <Cell 'Vendas'.B63>,\n",
              "  <Cell 'Vendas'.B64>,\n",
              "  <Cell 'Vendas'.B65>,\n",
              "  <Cell 'Vendas'.B66>,\n",
              "  <Cell 'Vendas'.B67>,\n",
              "  <Cell 'Vendas'.B68>,\n",
              "  <Cell 'Vendas'.B69>,\n",
              "  <Cell 'Vendas'.B70>,\n",
              "  <Cell 'Vendas'.B71>,\n",
              "  <Cell 'Vendas'.B72>,\n",
              "  <Cell 'Vendas'.B73>,\n",
              "  <Cell 'Vendas'.B74>,\n",
              "  <Cell 'Vendas'.B75>,\n",
              "  <Cell 'Vendas'.B76>,\n",
              "  <Cell 'Vendas'.B77>,\n",
              "  <Cell 'Vendas'.B78>,\n",
              "  <Cell 'Vendas'.B79>,\n",
              "  <Cell 'Vendas'.B80>,\n",
              "  <Cell 'Vendas'.B81>,\n",
              "  <Cell 'Vendas'.B82>,\n",
              "  <Cell 'Vendas'.B83>,\n",
              "  <Cell 'Vendas'.B84>,\n",
              "  <Cell 'Vendas'.B85>,\n",
              "  <Cell 'Vendas'.B86>,\n",
              "  <Cell 'Vendas'.B87>,\n",
              "  <Cell 'Vendas'.B88>,\n",
              "  <Cell 'Vendas'.B89>,\n",
              "  <Cell 'Vendas'.B90>,\n",
              "  <Cell 'Vendas'.B91>),\n",
              " (<Cell 'Vendas'.C1>,\n",
              "  <Cell 'Vendas'.C2>,\n",
              "  <Cell 'Vendas'.C3>,\n",
              "  <Cell 'Vendas'.C4>,\n",
              "  <Cell 'Vendas'.C5>,\n",
              "  <Cell 'Vendas'.C6>,\n",
              "  <Cell 'Vendas'.C7>,\n",
              "  <Cell 'Vendas'.C8>,\n",
              "  <Cell 'Vendas'.C9>,\n",
              "  <Cell 'Vendas'.C10>,\n",
              "  <Cell 'Vendas'.C11>,\n",
              "  <Cell 'Vendas'.C12>,\n",
              "  <Cell 'Vendas'.C13>,\n",
              "  <Cell 'Vendas'.C14>,\n",
              "  <Cell 'Vendas'.C15>,\n",
              "  <Cell 'Vendas'.C16>,\n",
              "  <Cell 'Vendas'.C17>,\n",
              "  <Cell 'Vendas'.C18>,\n",
              "  <Cell 'Vendas'.C19>,\n",
              "  <Cell 'Vendas'.C20>,\n",
              "  <Cell 'Vendas'.C21>,\n",
              "  <Cell 'Vendas'.C22>,\n",
              "  <Cell 'Vendas'.C23>,\n",
              "  <Cell 'Vendas'.C24>,\n",
              "  <Cell 'Vendas'.C25>,\n",
              "  <Cell 'Vendas'.C26>,\n",
              "  <Cell 'Vendas'.C27>,\n",
              "  <Cell 'Vendas'.C28>,\n",
              "  <Cell 'Vendas'.C29>,\n",
              "  <Cell 'Vendas'.C30>,\n",
              "  <Cell 'Vendas'.C31>,\n",
              "  <Cell 'Vendas'.C32>,\n",
              "  <Cell 'Vendas'.C33>,\n",
              "  <Cell 'Vendas'.C34>,\n",
              "  <Cell 'Vendas'.C35>,\n",
              "  <Cell 'Vendas'.C36>,\n",
              "  <Cell 'Vendas'.C37>,\n",
              "  <Cell 'Vendas'.C38>,\n",
              "  <Cell 'Vendas'.C39>,\n",
              "  <Cell 'Vendas'.C40>,\n",
              "  <Cell 'Vendas'.C41>,\n",
              "  <Cell 'Vendas'.C42>,\n",
              "  <Cell 'Vendas'.C43>,\n",
              "  <Cell 'Vendas'.C44>,\n",
              "  <Cell 'Vendas'.C45>,\n",
              "  <Cell 'Vendas'.C46>,\n",
              "  <Cell 'Vendas'.C47>,\n",
              "  <Cell 'Vendas'.C48>,\n",
              "  <Cell 'Vendas'.C49>,\n",
              "  <Cell 'Vendas'.C50>,\n",
              "  <Cell 'Vendas'.C51>,\n",
              "  <Cell 'Vendas'.C52>,\n",
              "  <Cell 'Vendas'.C53>,\n",
              "  <Cell 'Vendas'.C54>,\n",
              "  <Cell 'Vendas'.C55>,\n",
              "  <Cell 'Vendas'.C56>,\n",
              "  <Cell 'Vendas'.C57>,\n",
              "  <Cell 'Vendas'.C58>,\n",
              "  <Cell 'Vendas'.C59>,\n",
              "  <Cell 'Vendas'.C60>,\n",
              "  <Cell 'Vendas'.C61>,\n",
              "  <Cell 'Vendas'.C62>,\n",
              "  <Cell 'Vendas'.C63>,\n",
              "  <Cell 'Vendas'.C64>,\n",
              "  <Cell 'Vendas'.C65>,\n",
              "  <Cell 'Vendas'.C66>,\n",
              "  <Cell 'Vendas'.C67>,\n",
              "  <Cell 'Vendas'.C68>,\n",
              "  <Cell 'Vendas'.C69>,\n",
              "  <Cell 'Vendas'.C70>,\n",
              "  <Cell 'Vendas'.C71>,\n",
              "  <Cell 'Vendas'.C72>,\n",
              "  <Cell 'Vendas'.C73>,\n",
              "  <Cell 'Vendas'.C74>,\n",
              "  <Cell 'Vendas'.C75>,\n",
              "  <Cell 'Vendas'.C76>,\n",
              "  <Cell 'Vendas'.C77>,\n",
              "  <Cell 'Vendas'.C78>,\n",
              "  <Cell 'Vendas'.C79>,\n",
              "  <Cell 'Vendas'.C80>,\n",
              "  <Cell 'Vendas'.C81>,\n",
              "  <Cell 'Vendas'.C82>,\n",
              "  <Cell 'Vendas'.C83>,\n",
              "  <Cell 'Vendas'.C84>,\n",
              "  <Cell 'Vendas'.C85>,\n",
              "  <Cell 'Vendas'.C86>,\n",
              "  <Cell 'Vendas'.C87>,\n",
              "  <Cell 'Vendas'.C88>,\n",
              "  <Cell 'Vendas'.C89>,\n",
              "  <Cell 'Vendas'.C90>,\n",
              "  <Cell 'Vendas'.C91>))"
            ]
          },
          "metadata": {},
          "execution_count": 6
        }
      ]
    },
    {
      "cell_type": "code",
      "source": [
        "sheet[1]"
      ],
      "metadata": {
        "colab": {
          "base_uri": "https://localhost:8080/"
        },
        "id": "Ij5arniA-XIe",
        "outputId": "98b74a6d-c5d7-4987-c41d-f360c3ef077a"
      },
      "execution_count": 8,
      "outputs": [
        {
          "output_type": "execute_result",
          "data": {
            "text/plain": [
              "(<Cell 'Vendas'.A1>,\n",
              " <Cell 'Vendas'.B1>,\n",
              " <Cell 'Vendas'.C1>,\n",
              " <Cell 'Vendas'.D1>,\n",
              " <Cell 'Vendas'.E1>,\n",
              " <Cell 'Vendas'.F1>)"
            ]
          },
          "metadata": {},
          "execution_count": 8
        }
      ]
    },
    {
      "cell_type": "code",
      "source": [
        "sheet['a']"
      ],
      "metadata": {
        "colab": {
          "base_uri": "https://localhost:8080/"
        },
        "id": "1yep2A46-mXa",
        "outputId": "60523b3a-ac58-457c-bea4-56f32d04d048"
      },
      "execution_count": 9,
      "outputs": [
        {
          "output_type": "execute_result",
          "data": {
            "text/plain": [
              "(<Cell 'Vendas'.A1>,\n",
              " <Cell 'Vendas'.A2>,\n",
              " <Cell 'Vendas'.A3>,\n",
              " <Cell 'Vendas'.A4>,\n",
              " <Cell 'Vendas'.A5>,\n",
              " <Cell 'Vendas'.A6>,\n",
              " <Cell 'Vendas'.A7>,\n",
              " <Cell 'Vendas'.A8>,\n",
              " <Cell 'Vendas'.A9>,\n",
              " <Cell 'Vendas'.A10>,\n",
              " <Cell 'Vendas'.A11>,\n",
              " <Cell 'Vendas'.A12>,\n",
              " <Cell 'Vendas'.A13>,\n",
              " <Cell 'Vendas'.A14>,\n",
              " <Cell 'Vendas'.A15>,\n",
              " <Cell 'Vendas'.A16>,\n",
              " <Cell 'Vendas'.A17>,\n",
              " <Cell 'Vendas'.A18>,\n",
              " <Cell 'Vendas'.A19>,\n",
              " <Cell 'Vendas'.A20>,\n",
              " <Cell 'Vendas'.A21>,\n",
              " <Cell 'Vendas'.A22>,\n",
              " <Cell 'Vendas'.A23>,\n",
              " <Cell 'Vendas'.A24>,\n",
              " <Cell 'Vendas'.A25>,\n",
              " <Cell 'Vendas'.A26>,\n",
              " <Cell 'Vendas'.A27>,\n",
              " <Cell 'Vendas'.A28>,\n",
              " <Cell 'Vendas'.A29>,\n",
              " <Cell 'Vendas'.A30>,\n",
              " <Cell 'Vendas'.A31>,\n",
              " <Cell 'Vendas'.A32>,\n",
              " <Cell 'Vendas'.A33>,\n",
              " <Cell 'Vendas'.A34>,\n",
              " <Cell 'Vendas'.A35>,\n",
              " <Cell 'Vendas'.A36>,\n",
              " <Cell 'Vendas'.A37>,\n",
              " <Cell 'Vendas'.A38>,\n",
              " <Cell 'Vendas'.A39>,\n",
              " <Cell 'Vendas'.A40>,\n",
              " <Cell 'Vendas'.A41>,\n",
              " <Cell 'Vendas'.A42>,\n",
              " <Cell 'Vendas'.A43>,\n",
              " <Cell 'Vendas'.A44>,\n",
              " <Cell 'Vendas'.A45>,\n",
              " <Cell 'Vendas'.A46>,\n",
              " <Cell 'Vendas'.A47>,\n",
              " <Cell 'Vendas'.A48>,\n",
              " <Cell 'Vendas'.A49>,\n",
              " <Cell 'Vendas'.A50>,\n",
              " <Cell 'Vendas'.A51>,\n",
              " <Cell 'Vendas'.A52>,\n",
              " <Cell 'Vendas'.A53>,\n",
              " <Cell 'Vendas'.A54>,\n",
              " <Cell 'Vendas'.A55>,\n",
              " <Cell 'Vendas'.A56>,\n",
              " <Cell 'Vendas'.A57>,\n",
              " <Cell 'Vendas'.A58>,\n",
              " <Cell 'Vendas'.A59>,\n",
              " <Cell 'Vendas'.A60>,\n",
              " <Cell 'Vendas'.A61>,\n",
              " <Cell 'Vendas'.A62>,\n",
              " <Cell 'Vendas'.A63>,\n",
              " <Cell 'Vendas'.A64>,\n",
              " <Cell 'Vendas'.A65>,\n",
              " <Cell 'Vendas'.A66>,\n",
              " <Cell 'Vendas'.A67>,\n",
              " <Cell 'Vendas'.A68>,\n",
              " <Cell 'Vendas'.A69>,\n",
              " <Cell 'Vendas'.A70>,\n",
              " <Cell 'Vendas'.A71>,\n",
              " <Cell 'Vendas'.A72>,\n",
              " <Cell 'Vendas'.A73>,\n",
              " <Cell 'Vendas'.A74>,\n",
              " <Cell 'Vendas'.A75>,\n",
              " <Cell 'Vendas'.A76>,\n",
              " <Cell 'Vendas'.A77>,\n",
              " <Cell 'Vendas'.A78>,\n",
              " <Cell 'Vendas'.A79>,\n",
              " <Cell 'Vendas'.A80>,\n",
              " <Cell 'Vendas'.A81>,\n",
              " <Cell 'Vendas'.A82>,\n",
              " <Cell 'Vendas'.A83>,\n",
              " <Cell 'Vendas'.A84>,\n",
              " <Cell 'Vendas'.A85>,\n",
              " <Cell 'Vendas'.A86>,\n",
              " <Cell 'Vendas'.A87>,\n",
              " <Cell 'Vendas'.A88>,\n",
              " <Cell 'Vendas'.A89>,\n",
              " <Cell 'Vendas'.A90>,\n",
              " <Cell 'Vendas'.A91>)"
            ]
          },
          "metadata": {},
          "execution_count": 9
        }
      ]
    },
    {
      "cell_type": "code",
      "source": [
        ""
      ],
      "metadata": {
        "id": "0IDaNZF7-0R5"
      },
      "execution_count": null,
      "outputs": []
    },
    {
      "cell_type": "code",
      "source": [
        ""
      ],
      "metadata": {
        "id": "QvwC5vVC-rYT"
      },
      "execution_count": null,
      "outputs": []
    },
    {
      "cell_type": "markdown",
      "source": [
        "Uma forma mais efetiva de buscarmos determinado intervalo é utilizando uma estrutura de repetição para iterar sobre os dados e nos retornar as células que desejamos.\n",
        "\n",
        "Para isso, vamos criar um loop for para utilizar o método iter_rows, para iterar pelas linhas e retornar as células.\n",
        "\n",
        "Aqui, podemos passar parâmetros para definir em que linhas e colunas será feita a iteração.\n",
        "\n",
        "Os valores min indicam onde começa a iteração, e max, onde termina."
      ],
      "metadata": {
        "id": "0cE135wt-vL2"
      }
    },
    {
      "cell_type": "code",
      "source": [
        "sheet.iter_rows()"
      ],
      "metadata": {
        "colab": {
          "base_uri": "https://localhost:8080/"
        },
        "id": "LZgPZ1MfBI-y",
        "outputId": "bee29732-9b3d-4613-8bf1-45d19286e46e"
      },
      "execution_count": 12,
      "outputs": [
        {
          "output_type": "execute_result",
          "data": {
            "text/plain": [
              "<generator object Worksheet._cells_by_row at 0x7fa7bf490c50>"
            ]
          },
          "metadata": {},
          "execution_count": 12
        }
      ]
    },
    {
      "cell_type": "code",
      "source": [
        "for row in sheet.iter_rows():\n",
        "  print(row)"
      ],
      "metadata": {
        "colab": {
          "base_uri": "https://localhost:8080/"
        },
        "id": "qUxC1MMbBS02",
        "outputId": "60bb9179-464a-41d6-ae78-2fab22d657a9"
      },
      "execution_count": 13,
      "outputs": [
        {
          "output_type": "stream",
          "name": "stdout",
          "text": [
            "(<Cell 'Vendas'.A1>, <Cell 'Vendas'.B1>, <Cell 'Vendas'.C1>, <Cell 'Vendas'.D1>, <Cell 'Vendas'.E1>, <Cell 'Vendas'.F1>)\n",
            "(<Cell 'Vendas'.A2>, <Cell 'Vendas'.B2>, <Cell 'Vendas'.C2>, <Cell 'Vendas'.D2>, <Cell 'Vendas'.E2>, <Cell 'Vendas'.F2>)\n",
            "(<Cell 'Vendas'.A3>, <Cell 'Vendas'.B3>, <Cell 'Vendas'.C3>, <Cell 'Vendas'.D3>, <Cell 'Vendas'.E3>, <Cell 'Vendas'.F3>)\n",
            "(<Cell 'Vendas'.A4>, <Cell 'Vendas'.B4>, <Cell 'Vendas'.C4>, <Cell 'Vendas'.D4>, <Cell 'Vendas'.E4>, <Cell 'Vendas'.F4>)\n",
            "(<Cell 'Vendas'.A5>, <Cell 'Vendas'.B5>, <Cell 'Vendas'.C5>, <Cell 'Vendas'.D5>, <Cell 'Vendas'.E5>, <Cell 'Vendas'.F5>)\n",
            "(<Cell 'Vendas'.A6>, <Cell 'Vendas'.B6>, <Cell 'Vendas'.C6>, <Cell 'Vendas'.D6>, <Cell 'Vendas'.E6>, <Cell 'Vendas'.F6>)\n",
            "(<Cell 'Vendas'.A7>, <Cell 'Vendas'.B7>, <Cell 'Vendas'.C7>, <Cell 'Vendas'.D7>, <Cell 'Vendas'.E7>, <Cell 'Vendas'.F7>)\n",
            "(<Cell 'Vendas'.A8>, <Cell 'Vendas'.B8>, <Cell 'Vendas'.C8>, <Cell 'Vendas'.D8>, <Cell 'Vendas'.E8>, <Cell 'Vendas'.F8>)\n",
            "(<Cell 'Vendas'.A9>, <Cell 'Vendas'.B9>, <Cell 'Vendas'.C9>, <Cell 'Vendas'.D9>, <Cell 'Vendas'.E9>, <Cell 'Vendas'.F9>)\n",
            "(<Cell 'Vendas'.A10>, <Cell 'Vendas'.B10>, <Cell 'Vendas'.C10>, <Cell 'Vendas'.D10>, <Cell 'Vendas'.E10>, <Cell 'Vendas'.F10>)\n",
            "(<Cell 'Vendas'.A11>, <Cell 'Vendas'.B11>, <Cell 'Vendas'.C11>, <Cell 'Vendas'.D11>, <Cell 'Vendas'.E11>, <Cell 'Vendas'.F11>)\n",
            "(<Cell 'Vendas'.A12>, <Cell 'Vendas'.B12>, <Cell 'Vendas'.C12>, <Cell 'Vendas'.D12>, <Cell 'Vendas'.E12>, <Cell 'Vendas'.F12>)\n",
            "(<Cell 'Vendas'.A13>, <Cell 'Vendas'.B13>, <Cell 'Vendas'.C13>, <Cell 'Vendas'.D13>, <Cell 'Vendas'.E13>, <Cell 'Vendas'.F13>)\n",
            "(<Cell 'Vendas'.A14>, <Cell 'Vendas'.B14>, <Cell 'Vendas'.C14>, <Cell 'Vendas'.D14>, <Cell 'Vendas'.E14>, <Cell 'Vendas'.F14>)\n",
            "(<Cell 'Vendas'.A15>, <Cell 'Vendas'.B15>, <Cell 'Vendas'.C15>, <Cell 'Vendas'.D15>, <Cell 'Vendas'.E15>, <Cell 'Vendas'.F15>)\n",
            "(<Cell 'Vendas'.A16>, <Cell 'Vendas'.B16>, <Cell 'Vendas'.C16>, <Cell 'Vendas'.D16>, <Cell 'Vendas'.E16>, <Cell 'Vendas'.F16>)\n",
            "(<Cell 'Vendas'.A17>, <Cell 'Vendas'.B17>, <Cell 'Vendas'.C17>, <Cell 'Vendas'.D17>, <Cell 'Vendas'.E17>, <Cell 'Vendas'.F17>)\n",
            "(<Cell 'Vendas'.A18>, <Cell 'Vendas'.B18>, <Cell 'Vendas'.C18>, <Cell 'Vendas'.D18>, <Cell 'Vendas'.E18>, <Cell 'Vendas'.F18>)\n",
            "(<Cell 'Vendas'.A19>, <Cell 'Vendas'.B19>, <Cell 'Vendas'.C19>, <Cell 'Vendas'.D19>, <Cell 'Vendas'.E19>, <Cell 'Vendas'.F19>)\n",
            "(<Cell 'Vendas'.A20>, <Cell 'Vendas'.B20>, <Cell 'Vendas'.C20>, <Cell 'Vendas'.D20>, <Cell 'Vendas'.E20>, <Cell 'Vendas'.F20>)\n",
            "(<Cell 'Vendas'.A21>, <Cell 'Vendas'.B21>, <Cell 'Vendas'.C21>, <Cell 'Vendas'.D21>, <Cell 'Vendas'.E21>, <Cell 'Vendas'.F21>)\n",
            "(<Cell 'Vendas'.A22>, <Cell 'Vendas'.B22>, <Cell 'Vendas'.C22>, <Cell 'Vendas'.D22>, <Cell 'Vendas'.E22>, <Cell 'Vendas'.F22>)\n",
            "(<Cell 'Vendas'.A23>, <Cell 'Vendas'.B23>, <Cell 'Vendas'.C23>, <Cell 'Vendas'.D23>, <Cell 'Vendas'.E23>, <Cell 'Vendas'.F23>)\n",
            "(<Cell 'Vendas'.A24>, <Cell 'Vendas'.B24>, <Cell 'Vendas'.C24>, <Cell 'Vendas'.D24>, <Cell 'Vendas'.E24>, <Cell 'Vendas'.F24>)\n",
            "(<Cell 'Vendas'.A25>, <Cell 'Vendas'.B25>, <Cell 'Vendas'.C25>, <Cell 'Vendas'.D25>, <Cell 'Vendas'.E25>, <Cell 'Vendas'.F25>)\n",
            "(<Cell 'Vendas'.A26>, <Cell 'Vendas'.B26>, <Cell 'Vendas'.C26>, <Cell 'Vendas'.D26>, <Cell 'Vendas'.E26>, <Cell 'Vendas'.F26>)\n",
            "(<Cell 'Vendas'.A27>, <Cell 'Vendas'.B27>, <Cell 'Vendas'.C27>, <Cell 'Vendas'.D27>, <Cell 'Vendas'.E27>, <Cell 'Vendas'.F27>)\n",
            "(<Cell 'Vendas'.A28>, <Cell 'Vendas'.B28>, <Cell 'Vendas'.C28>, <Cell 'Vendas'.D28>, <Cell 'Vendas'.E28>, <Cell 'Vendas'.F28>)\n",
            "(<Cell 'Vendas'.A29>, <Cell 'Vendas'.B29>, <Cell 'Vendas'.C29>, <Cell 'Vendas'.D29>, <Cell 'Vendas'.E29>, <Cell 'Vendas'.F29>)\n",
            "(<Cell 'Vendas'.A30>, <Cell 'Vendas'.B30>, <Cell 'Vendas'.C30>, <Cell 'Vendas'.D30>, <Cell 'Vendas'.E30>, <Cell 'Vendas'.F30>)\n",
            "(<Cell 'Vendas'.A31>, <Cell 'Vendas'.B31>, <Cell 'Vendas'.C31>, <Cell 'Vendas'.D31>, <Cell 'Vendas'.E31>, <Cell 'Vendas'.F31>)\n",
            "(<Cell 'Vendas'.A32>, <Cell 'Vendas'.B32>, <Cell 'Vendas'.C32>, <Cell 'Vendas'.D32>, <Cell 'Vendas'.E32>, <Cell 'Vendas'.F32>)\n",
            "(<Cell 'Vendas'.A33>, <Cell 'Vendas'.B33>, <Cell 'Vendas'.C33>, <Cell 'Vendas'.D33>, <Cell 'Vendas'.E33>, <Cell 'Vendas'.F33>)\n",
            "(<Cell 'Vendas'.A34>, <Cell 'Vendas'.B34>, <Cell 'Vendas'.C34>, <Cell 'Vendas'.D34>, <Cell 'Vendas'.E34>, <Cell 'Vendas'.F34>)\n",
            "(<Cell 'Vendas'.A35>, <Cell 'Vendas'.B35>, <Cell 'Vendas'.C35>, <Cell 'Vendas'.D35>, <Cell 'Vendas'.E35>, <Cell 'Vendas'.F35>)\n",
            "(<Cell 'Vendas'.A36>, <Cell 'Vendas'.B36>, <Cell 'Vendas'.C36>, <Cell 'Vendas'.D36>, <Cell 'Vendas'.E36>, <Cell 'Vendas'.F36>)\n",
            "(<Cell 'Vendas'.A37>, <Cell 'Vendas'.B37>, <Cell 'Vendas'.C37>, <Cell 'Vendas'.D37>, <Cell 'Vendas'.E37>, <Cell 'Vendas'.F37>)\n",
            "(<Cell 'Vendas'.A38>, <Cell 'Vendas'.B38>, <Cell 'Vendas'.C38>, <Cell 'Vendas'.D38>, <Cell 'Vendas'.E38>, <Cell 'Vendas'.F38>)\n",
            "(<Cell 'Vendas'.A39>, <Cell 'Vendas'.B39>, <Cell 'Vendas'.C39>, <Cell 'Vendas'.D39>, <Cell 'Vendas'.E39>, <Cell 'Vendas'.F39>)\n",
            "(<Cell 'Vendas'.A40>, <Cell 'Vendas'.B40>, <Cell 'Vendas'.C40>, <Cell 'Vendas'.D40>, <Cell 'Vendas'.E40>, <Cell 'Vendas'.F40>)\n",
            "(<Cell 'Vendas'.A41>, <Cell 'Vendas'.B41>, <Cell 'Vendas'.C41>, <Cell 'Vendas'.D41>, <Cell 'Vendas'.E41>, <Cell 'Vendas'.F41>)\n",
            "(<Cell 'Vendas'.A42>, <Cell 'Vendas'.B42>, <Cell 'Vendas'.C42>, <Cell 'Vendas'.D42>, <Cell 'Vendas'.E42>, <Cell 'Vendas'.F42>)\n",
            "(<Cell 'Vendas'.A43>, <Cell 'Vendas'.B43>, <Cell 'Vendas'.C43>, <Cell 'Vendas'.D43>, <Cell 'Vendas'.E43>, <Cell 'Vendas'.F43>)\n",
            "(<Cell 'Vendas'.A44>, <Cell 'Vendas'.B44>, <Cell 'Vendas'.C44>, <Cell 'Vendas'.D44>, <Cell 'Vendas'.E44>, <Cell 'Vendas'.F44>)\n",
            "(<Cell 'Vendas'.A45>, <Cell 'Vendas'.B45>, <Cell 'Vendas'.C45>, <Cell 'Vendas'.D45>, <Cell 'Vendas'.E45>, <Cell 'Vendas'.F45>)\n",
            "(<Cell 'Vendas'.A46>, <Cell 'Vendas'.B46>, <Cell 'Vendas'.C46>, <Cell 'Vendas'.D46>, <Cell 'Vendas'.E46>, <Cell 'Vendas'.F46>)\n",
            "(<Cell 'Vendas'.A47>, <Cell 'Vendas'.B47>, <Cell 'Vendas'.C47>, <Cell 'Vendas'.D47>, <Cell 'Vendas'.E47>, <Cell 'Vendas'.F47>)\n",
            "(<Cell 'Vendas'.A48>, <Cell 'Vendas'.B48>, <Cell 'Vendas'.C48>, <Cell 'Vendas'.D48>, <Cell 'Vendas'.E48>, <Cell 'Vendas'.F48>)\n",
            "(<Cell 'Vendas'.A49>, <Cell 'Vendas'.B49>, <Cell 'Vendas'.C49>, <Cell 'Vendas'.D49>, <Cell 'Vendas'.E49>, <Cell 'Vendas'.F49>)\n",
            "(<Cell 'Vendas'.A50>, <Cell 'Vendas'.B50>, <Cell 'Vendas'.C50>, <Cell 'Vendas'.D50>, <Cell 'Vendas'.E50>, <Cell 'Vendas'.F50>)\n",
            "(<Cell 'Vendas'.A51>, <Cell 'Vendas'.B51>, <Cell 'Vendas'.C51>, <Cell 'Vendas'.D51>, <Cell 'Vendas'.E51>, <Cell 'Vendas'.F51>)\n",
            "(<Cell 'Vendas'.A52>, <Cell 'Vendas'.B52>, <Cell 'Vendas'.C52>, <Cell 'Vendas'.D52>, <Cell 'Vendas'.E52>, <Cell 'Vendas'.F52>)\n",
            "(<Cell 'Vendas'.A53>, <Cell 'Vendas'.B53>, <Cell 'Vendas'.C53>, <Cell 'Vendas'.D53>, <Cell 'Vendas'.E53>, <Cell 'Vendas'.F53>)\n",
            "(<Cell 'Vendas'.A54>, <Cell 'Vendas'.B54>, <Cell 'Vendas'.C54>, <Cell 'Vendas'.D54>, <Cell 'Vendas'.E54>, <Cell 'Vendas'.F54>)\n",
            "(<Cell 'Vendas'.A55>, <Cell 'Vendas'.B55>, <Cell 'Vendas'.C55>, <Cell 'Vendas'.D55>, <Cell 'Vendas'.E55>, <Cell 'Vendas'.F55>)\n",
            "(<Cell 'Vendas'.A56>, <Cell 'Vendas'.B56>, <Cell 'Vendas'.C56>, <Cell 'Vendas'.D56>, <Cell 'Vendas'.E56>, <Cell 'Vendas'.F56>)\n",
            "(<Cell 'Vendas'.A57>, <Cell 'Vendas'.B57>, <Cell 'Vendas'.C57>, <Cell 'Vendas'.D57>, <Cell 'Vendas'.E57>, <Cell 'Vendas'.F57>)\n",
            "(<Cell 'Vendas'.A58>, <Cell 'Vendas'.B58>, <Cell 'Vendas'.C58>, <Cell 'Vendas'.D58>, <Cell 'Vendas'.E58>, <Cell 'Vendas'.F58>)\n",
            "(<Cell 'Vendas'.A59>, <Cell 'Vendas'.B59>, <Cell 'Vendas'.C59>, <Cell 'Vendas'.D59>, <Cell 'Vendas'.E59>, <Cell 'Vendas'.F59>)\n",
            "(<Cell 'Vendas'.A60>, <Cell 'Vendas'.B60>, <Cell 'Vendas'.C60>, <Cell 'Vendas'.D60>, <Cell 'Vendas'.E60>, <Cell 'Vendas'.F60>)\n",
            "(<Cell 'Vendas'.A61>, <Cell 'Vendas'.B61>, <Cell 'Vendas'.C61>, <Cell 'Vendas'.D61>, <Cell 'Vendas'.E61>, <Cell 'Vendas'.F61>)\n",
            "(<Cell 'Vendas'.A62>, <Cell 'Vendas'.B62>, <Cell 'Vendas'.C62>, <Cell 'Vendas'.D62>, <Cell 'Vendas'.E62>, <Cell 'Vendas'.F62>)\n",
            "(<Cell 'Vendas'.A63>, <Cell 'Vendas'.B63>, <Cell 'Vendas'.C63>, <Cell 'Vendas'.D63>, <Cell 'Vendas'.E63>, <Cell 'Vendas'.F63>)\n",
            "(<Cell 'Vendas'.A64>, <Cell 'Vendas'.B64>, <Cell 'Vendas'.C64>, <Cell 'Vendas'.D64>, <Cell 'Vendas'.E64>, <Cell 'Vendas'.F64>)\n",
            "(<Cell 'Vendas'.A65>, <Cell 'Vendas'.B65>, <Cell 'Vendas'.C65>, <Cell 'Vendas'.D65>, <Cell 'Vendas'.E65>, <Cell 'Vendas'.F65>)\n",
            "(<Cell 'Vendas'.A66>, <Cell 'Vendas'.B66>, <Cell 'Vendas'.C66>, <Cell 'Vendas'.D66>, <Cell 'Vendas'.E66>, <Cell 'Vendas'.F66>)\n",
            "(<Cell 'Vendas'.A67>, <Cell 'Vendas'.B67>, <Cell 'Vendas'.C67>, <Cell 'Vendas'.D67>, <Cell 'Vendas'.E67>, <Cell 'Vendas'.F67>)\n",
            "(<Cell 'Vendas'.A68>, <Cell 'Vendas'.B68>, <Cell 'Vendas'.C68>, <Cell 'Vendas'.D68>, <Cell 'Vendas'.E68>, <Cell 'Vendas'.F68>)\n",
            "(<Cell 'Vendas'.A69>, <Cell 'Vendas'.B69>, <Cell 'Vendas'.C69>, <Cell 'Vendas'.D69>, <Cell 'Vendas'.E69>, <Cell 'Vendas'.F69>)\n",
            "(<Cell 'Vendas'.A70>, <Cell 'Vendas'.B70>, <Cell 'Vendas'.C70>, <Cell 'Vendas'.D70>, <Cell 'Vendas'.E70>, <Cell 'Vendas'.F70>)\n",
            "(<Cell 'Vendas'.A71>, <Cell 'Vendas'.B71>, <Cell 'Vendas'.C71>, <Cell 'Vendas'.D71>, <Cell 'Vendas'.E71>, <Cell 'Vendas'.F71>)\n",
            "(<Cell 'Vendas'.A72>, <Cell 'Vendas'.B72>, <Cell 'Vendas'.C72>, <Cell 'Vendas'.D72>, <Cell 'Vendas'.E72>, <Cell 'Vendas'.F72>)\n",
            "(<Cell 'Vendas'.A73>, <Cell 'Vendas'.B73>, <Cell 'Vendas'.C73>, <Cell 'Vendas'.D73>, <Cell 'Vendas'.E73>, <Cell 'Vendas'.F73>)\n",
            "(<Cell 'Vendas'.A74>, <Cell 'Vendas'.B74>, <Cell 'Vendas'.C74>, <Cell 'Vendas'.D74>, <Cell 'Vendas'.E74>, <Cell 'Vendas'.F74>)\n",
            "(<Cell 'Vendas'.A75>, <Cell 'Vendas'.B75>, <Cell 'Vendas'.C75>, <Cell 'Vendas'.D75>, <Cell 'Vendas'.E75>, <Cell 'Vendas'.F75>)\n",
            "(<Cell 'Vendas'.A76>, <Cell 'Vendas'.B76>, <Cell 'Vendas'.C76>, <Cell 'Vendas'.D76>, <Cell 'Vendas'.E76>, <Cell 'Vendas'.F76>)\n",
            "(<Cell 'Vendas'.A77>, <Cell 'Vendas'.B77>, <Cell 'Vendas'.C77>, <Cell 'Vendas'.D77>, <Cell 'Vendas'.E77>, <Cell 'Vendas'.F77>)\n",
            "(<Cell 'Vendas'.A78>, <Cell 'Vendas'.B78>, <Cell 'Vendas'.C78>, <Cell 'Vendas'.D78>, <Cell 'Vendas'.E78>, <Cell 'Vendas'.F78>)\n",
            "(<Cell 'Vendas'.A79>, <Cell 'Vendas'.B79>, <Cell 'Vendas'.C79>, <Cell 'Vendas'.D79>, <Cell 'Vendas'.E79>, <Cell 'Vendas'.F79>)\n",
            "(<Cell 'Vendas'.A80>, <Cell 'Vendas'.B80>, <Cell 'Vendas'.C80>, <Cell 'Vendas'.D80>, <Cell 'Vendas'.E80>, <Cell 'Vendas'.F80>)\n",
            "(<Cell 'Vendas'.A81>, <Cell 'Vendas'.B81>, <Cell 'Vendas'.C81>, <Cell 'Vendas'.D81>, <Cell 'Vendas'.E81>, <Cell 'Vendas'.F81>)\n",
            "(<Cell 'Vendas'.A82>, <Cell 'Vendas'.B82>, <Cell 'Vendas'.C82>, <Cell 'Vendas'.D82>, <Cell 'Vendas'.E82>, <Cell 'Vendas'.F82>)\n",
            "(<Cell 'Vendas'.A83>, <Cell 'Vendas'.B83>, <Cell 'Vendas'.C83>, <Cell 'Vendas'.D83>, <Cell 'Vendas'.E83>, <Cell 'Vendas'.F83>)\n",
            "(<Cell 'Vendas'.A84>, <Cell 'Vendas'.B84>, <Cell 'Vendas'.C84>, <Cell 'Vendas'.D84>, <Cell 'Vendas'.E84>, <Cell 'Vendas'.F84>)\n",
            "(<Cell 'Vendas'.A85>, <Cell 'Vendas'.B85>, <Cell 'Vendas'.C85>, <Cell 'Vendas'.D85>, <Cell 'Vendas'.E85>, <Cell 'Vendas'.F85>)\n",
            "(<Cell 'Vendas'.A86>, <Cell 'Vendas'.B86>, <Cell 'Vendas'.C86>, <Cell 'Vendas'.D86>, <Cell 'Vendas'.E86>, <Cell 'Vendas'.F86>)\n",
            "(<Cell 'Vendas'.A87>, <Cell 'Vendas'.B87>, <Cell 'Vendas'.C87>, <Cell 'Vendas'.D87>, <Cell 'Vendas'.E87>, <Cell 'Vendas'.F87>)\n",
            "(<Cell 'Vendas'.A88>, <Cell 'Vendas'.B88>, <Cell 'Vendas'.C88>, <Cell 'Vendas'.D88>, <Cell 'Vendas'.E88>, <Cell 'Vendas'.F88>)\n",
            "(<Cell 'Vendas'.A89>, <Cell 'Vendas'.B89>, <Cell 'Vendas'.C89>, <Cell 'Vendas'.D89>, <Cell 'Vendas'.E89>, <Cell 'Vendas'.F89>)\n",
            "(<Cell 'Vendas'.A90>, <Cell 'Vendas'.B90>, <Cell 'Vendas'.C90>, <Cell 'Vendas'.D90>, <Cell 'Vendas'.E90>, <Cell 'Vendas'.F90>)\n",
            "(<Cell 'Vendas'.A91>, <Cell 'Vendas'.B91>, <Cell 'Vendas'.C91>, <Cell 'Vendas'.D91>, <Cell 'Vendas'.E91>, <Cell 'Vendas'.F91>)\n"
          ]
        }
      ]
    },
    {
      "cell_type": "code",
      "source": [
        "for row in sheet.iter_rows(min_row=1,max_row=3,min_col=1,max_col=3):\n",
        "  print(row)"
      ],
      "metadata": {
        "colab": {
          "base_uri": "https://localhost:8080/"
        },
        "id": "TxDhfTTeBaJ9",
        "outputId": "cbb0ead7-7393-4f29-d286-8b4fc76418ac"
      },
      "execution_count": 17,
      "outputs": [
        {
          "output_type": "stream",
          "name": "stdout",
          "text": [
            "(<Cell 'Vendas'.A1>, <Cell 'Vendas'.B1>, <Cell 'Vendas'.C1>)\n",
            "(<Cell 'Vendas'.A2>, <Cell 'Vendas'.B2>, <Cell 'Vendas'.C2>)\n",
            "(<Cell 'Vendas'.A3>, <Cell 'Vendas'.B3>, <Cell 'Vendas'.C3>)\n"
          ]
        }
      ]
    },
    {
      "cell_type": "code",
      "source": [
        "for col in sheet.iter_cols(min_row=1,max_row=3,min_col=1,max_col=3):\n",
        "  print(col)"
      ],
      "metadata": {
        "colab": {
          "base_uri": "https://localhost:8080/"
        },
        "id": "wnaADeedCPz2",
        "outputId": "caa5c485-f42b-4867-ccc2-0ee7b15e9e17"
      },
      "execution_count": 18,
      "outputs": [
        {
          "output_type": "stream",
          "name": "stdout",
          "text": [
            "(<Cell 'Vendas'.A1>, <Cell 'Vendas'.A2>, <Cell 'Vendas'.A3>)\n",
            "(<Cell 'Vendas'.B1>, <Cell 'Vendas'.B2>, <Cell 'Vendas'.B3>)\n",
            "(<Cell 'Vendas'.C1>, <Cell 'Vendas'.C2>, <Cell 'Vendas'.C3>)\n"
          ]
        }
      ]
    },
    {
      "cell_type": "code",
      "source": [
        "# iterando sobre os dados\n",
        "for value in sheet.iter_rows(min_row=1,\n",
        "                           max_row=2,\n",
        "                           min_col=1,\n",
        "                           max_col=2,\n",
        "                           values_only=True):\n",
        "  print(value)"
      ],
      "metadata": {
        "colab": {
          "base_uri": "https://localhost:8080/"
        },
        "id": "AzLvgDqyDqbF",
        "outputId": "38b5c0e4-f647-4426-d811-495d8aea369b"
      },
      "execution_count": 19,
      "outputs": [
        {
          "output_type": "stream",
          "name": "stdout",
          "text": [
            "('Data da Venda', 'Item')\n",
            "(datetime.datetime(2020, 1, 2, 0, 0), 'Lente 50mm f/1.4')\n"
          ]
        }
      ]
    },
    {
      "cell_type": "code",
      "source": [
        "##Varrendo a primeira linha\n",
        "for nomeCol in sheet.iter_rows(max_row=1,values_only=True):\n",
        "  print(nomeCol)\n"
      ],
      "metadata": {
        "colab": {
          "base_uri": "https://localhost:8080/"
        },
        "id": "lmcnigKpD4nl",
        "outputId": "885eae3a-2fd5-406d-d7a7-79d8f1469b89"
      },
      "execution_count": 21,
      "outputs": [
        {
          "output_type": "stream",
          "name": "stdout",
          "text": [
            "('Data da Venda', 'Item', 'Quantidade', 'Vendedor', 'Preço Unitário', 'Total de Vendas')\n"
          ]
        }
      ]
    },
    {
      "cell_type": "code",
      "source": [
        "##iterando sobre a planilha inteira\n",
        "for linha in sheet.iter_rows(values_only=True):\n",
        "  print(linha)"
      ],
      "metadata": {
        "colab": {
          "base_uri": "https://localhost:8080/"
        },
        "id": "16U_zV5TEbqC",
        "outputId": "0ed5c753-f6fa-49c4-a99f-350c877cdb0c"
      },
      "execution_count": 23,
      "outputs": [
        {
          "output_type": "stream",
          "name": "stdout",
          "text": [
            "('Data da Venda', 'Item', 'Quantidade', 'Vendedor', 'Preço Unitário', 'Total de Vendas')\n",
            "(datetime.datetime(2020, 1, 2, 0, 0), 'Lente 50mm f/1.4', 2, 'Carlos', 1649, 3298)\n",
            "(datetime.datetime(2020, 1, 2, 0, 0), 'Filtro ND 5 Stop', 2, 'Raquel', 1220, 2440)\n",
            "(datetime.datetime(2020, 1, 3, 0, 0), 'Filtro ND 5 Stop', 2, 'Raquel', 1220, 2440)\n",
            "(datetime.datetime(2020, 1, 3, 0, 0), 'Lente 16-35mm f/2.8', 2, 'Carlos', 8997, 17994)\n",
            "(datetime.datetime(2020, 1, 4, 0, 0), 'Lente 16-35mm f/2.8', 2, 'Fernanda', 8997, 17994)\n",
            "(datetime.datetime(2020, 1, 4, 0, 0), 'Filtro ND 3 Stop', 1, 'Raquel', 1220, 1220)\n",
            "(datetime.datetime(2020, 1, 4, 0, 0), 'Lente 16-35mm f/2.8', 2, 'Carlos', 8997, 17994)\n",
            "(datetime.datetime(2020, 1, 4, 0, 0), 'DJI Ronin-S', 2, 'Theo', 5790, 11580)\n",
            "(datetime.datetime(2020, 1, 4, 0, 0), 'Lente 16-35mm f/2.8', 2, 'Carlos', 8997, 17994)\n",
            "(datetime.datetime(2020, 1, 5, 0, 0), 'Lente 85mm f/1.4', 2, 'Raquel', 9989, 19978)\n",
            "(datetime.datetime(2020, 1, 5, 0, 0), 'DJI Ronin-S', 2, 'Theo', 5790, 11580)\n",
            "(datetime.datetime(2020, 1, 5, 0, 0), 'DJI Ronin-S', 2, 'Fernanda', 5790, 11580)\n",
            "(datetime.datetime(2020, 1, 6, 0, 0), 'Filtro ND 5 Stop', 1, 'Carlos', 1220, 1220)\n",
            "(datetime.datetime(2020, 1, 7, 0, 0), 'Lente 85mm f/1.4', 2, 'Theo', 9989, 19978)\n",
            "(datetime.datetime(2020, 1, 7, 0, 0), 'Filtro ND 3 Stop', 1, 'Raquel', 1220, 1220)\n",
            "(datetime.datetime(2020, 1, 9, 0, 0), 'Canon 6D Mark II', 1, 'Fernanda', 8500, 8500)\n",
            "(datetime.datetime(2020, 1, 10, 0, 0), 'DJI Mavic Air 2', 2, 'Theo', 13580, 27160)\n",
            "(datetime.datetime(2020, 1, 10, 0, 0), 'Filtro ND 5 Stop', 2, 'Raquel', 1220, 2440)\n",
            "(datetime.datetime(2020, 1, 10, 0, 0), 'Filtro ND 3 Stop', 2, 'Theo', 1220, 2440)\n",
            "(datetime.datetime(2020, 1, 10, 0, 0), 'Lente 16-35mm f/2.8', 1, 'Raquel', 8997, 8997)\n",
            "(datetime.datetime(2020, 1, 10, 0, 0), 'DJI Mavic Air 2', 2, 'Raquel', 13580, 27160)\n",
            "(datetime.datetime(2020, 1, 12, 0, 0), 'Lente 50mm f/1.4', 2, 'Fernanda', 1649, 3298)\n",
            "(datetime.datetime(2020, 1, 12, 0, 0), 'DJI Mavic Air 2', 1, 'Carlos', 13580, 13580)\n",
            "(datetime.datetime(2020, 1, 12, 0, 0), 'Filtro ND 3 Stop', 1, 'Carlos', 1220, 1220)\n",
            "(datetime.datetime(2020, 1, 12, 0, 0), 'Filtro ND 5 Stop', 1, 'Fernanda', 1220, 1220)\n",
            "(datetime.datetime(2020, 1, 13, 0, 0), 'Lente 50mm f/1.4', 1, 'Fernanda', 1649, 1649)\n",
            "(datetime.datetime(2020, 1, 13, 0, 0), 'Canon 5D Mark III', 2, 'Fernanda', 13650, 27300)\n",
            "(datetime.datetime(2020, 1, 13, 0, 0), 'Canon 5D Mark III', 2, 'Fernanda', 13650, 27300)\n",
            "(datetime.datetime(2020, 1, 13, 0, 0), 'Lente 50mm f/1.4', 1, 'Carlos', 1649, 1649)\n",
            "(datetime.datetime(2020, 1, 13, 0, 0), 'DJI Ronin-S', 2, 'Carlos', 5790, 11580)\n",
            "(datetime.datetime(2020, 1, 14, 0, 0), 'Lente 16-35mm f/2.8', 2, 'Carlos', 8997, 17994)\n",
            "(datetime.datetime(2020, 1, 14, 0, 0), 'Filtro ND 5 Stop', 2, 'Theo', 1220, 2440)\n",
            "(datetime.datetime(2020, 1, 15, 0, 0), 'Lente 50mm f/1.4', 2, 'Raquel', 1649, 3298)\n",
            "(datetime.datetime(2020, 1, 15, 0, 0), 'DJI Ronin-S', 1, 'Raquel', 5790, 5790)\n",
            "(datetime.datetime(2020, 1, 15, 0, 0), 'Filtro ND 3 Stop', 2, 'Theo', 1220, 2440)\n",
            "(datetime.datetime(2020, 1, 16, 0, 0), 'Filtro ND 3 Stop', 2, 'Raquel', 1220, 2440)\n",
            "(datetime.datetime(2020, 1, 16, 0, 0), 'DJI Mavic Air 2', 2, 'Fernanda', 13580, 27160)\n",
            "(datetime.datetime(2020, 1, 16, 0, 0), 'Lente 85mm f/1.4', 1, 'Carlos', 9989, 9989)\n",
            "(datetime.datetime(2020, 1, 16, 0, 0), 'Filtro ND 5 Stop', 2, 'Carlos', 1220, 2440)\n",
            "(datetime.datetime(2020, 1, 16, 0, 0), 'Filtro ND 2 Stop', 2, 'Fernanda', 1220, 2440)\n",
            "(datetime.datetime(2020, 1, 16, 0, 0), 'Lente 50mm f/1.4', 2, 'Raquel', 1649, 3298)\n",
            "(datetime.datetime(2020, 1, 19, 0, 0), 'Filtro ND 5 Stop', 1, 'Raquel', 1220, 1220)\n",
            "(datetime.datetime(2020, 1, 19, 0, 0), 'Lente 16-35mm f/2.8', 1, 'Raquel', 8997, 8997)\n",
            "(datetime.datetime(2020, 1, 20, 0, 0), 'Canon 5D Mark III', 1, 'Carlos', 13650, 13650)\n",
            "(datetime.datetime(2020, 1, 20, 0, 0), 'DJI Mavic Air 2', 2, 'Theo', 13580, 27160)\n",
            "(datetime.datetime(2020, 1, 20, 0, 0), 'Canon 5D Mark III', 1, 'Raquel', 13650, 13650)\n",
            "(datetime.datetime(2020, 1, 20, 0, 0), 'Lente 85mm f/1.4', 2, 'Raquel', 9989, 19978)\n",
            "(datetime.datetime(2020, 1, 21, 0, 0), 'Filtro ND 3 Stop', 2, 'Carlos', 1220, 2440)\n",
            "(datetime.datetime(2020, 1, 21, 0, 0), 'Canon 6D Mark II', 2, 'Theo', 8500, 17000)\n",
            "(datetime.datetime(2020, 1, 21, 0, 0), 'Lente 16-35mm f/2.8', 2, 'Fernanda', 8997, 17994)\n",
            "(datetime.datetime(2020, 1, 21, 0, 0), 'DJI Ronin-S', 1, 'Carlos', 5790, 5790)\n",
            "(datetime.datetime(2020, 1, 21, 0, 0), 'Filtro ND 3 Stop', 2, 'Raquel', 1220, 2440)\n",
            "(datetime.datetime(2020, 1, 23, 0, 0), 'Canon 6D Mark II', 2, 'Carlos', 8500, 17000)\n",
            "(datetime.datetime(2020, 1, 23, 0, 0), 'DJI Mavic Air 2', 1, 'Carlos', 13580, 13580)\n",
            "(datetime.datetime(2020, 1, 23, 0, 0), 'Filtro ND 5 Stop', 2, 'Fernanda', 1220, 2440)\n",
            "(datetime.datetime(2020, 1, 23, 0, 0), 'Lente 50mm f/1.4', 1, 'Raquel', 1649, 1649)\n",
            "(datetime.datetime(2020, 1, 23, 0, 0), 'Filtro ND 3 Stop', 1, 'Carlos', 1220, 1220)\n",
            "(datetime.datetime(2020, 1, 23, 0, 0), 'Lente 16-35mm f/2.8', 1, 'Fernanda', 8997, 8997)\n",
            "(datetime.datetime(2020, 1, 23, 0, 0), 'Canon 5D Mark III', 2, 'Theo', 13650, 27300)\n",
            "(datetime.datetime(2020, 1, 24, 0, 0), 'Filtro ND 5 Stop', 1, 'Carlos', 1220, 1220)\n",
            "(datetime.datetime(2020, 1, 24, 0, 0), 'Filtro ND 2 Stop', 2, 'Raquel', 1220, 2440)\n",
            "(datetime.datetime(2020, 1, 24, 0, 0), 'Lente 50mm f/1.4', 1, 'Carlos', 1649, 1649)\n",
            "(datetime.datetime(2020, 1, 25, 0, 0), 'Lente 16-35mm f/2.8', 1, 'Raquel', 8997, 8997)\n",
            "(datetime.datetime(2020, 1, 25, 0, 0), 'Filtro ND 5 Stop', 1, 'Fernanda', 1220, 1220)\n",
            "(datetime.datetime(2020, 1, 25, 0, 0), 'Lente 16-35mm f/2.8', 1, 'Theo', 8997, 8997)\n",
            "(datetime.datetime(2020, 1, 25, 0, 0), 'Lente 50mm f/1.4', 1, 'Raquel', 1649, 1649)\n",
            "(datetime.datetime(2020, 1, 25, 0, 0), 'Lente 85mm f/1.4', 2, 'Theo', 9989, 19978)\n",
            "(datetime.datetime(2020, 1, 26, 0, 0), 'Filtro ND 2 Stop', 1, 'Theo', 1220, 1220)\n",
            "(datetime.datetime(2020, 1, 26, 0, 0), 'Canon 5D Mark III', 1, 'Raquel', 13650, 13650)\n",
            "(datetime.datetime(2020, 1, 26, 0, 0), 'Canon 6D Mark II', 1, 'Carlos', 8500, 8500)\n",
            "(datetime.datetime(2020, 1, 26, 0, 0), 'Lente 50mm f/1.4', 1, 'Theo', 1649, 1649)\n",
            "(datetime.datetime(2020, 1, 27, 0, 0), 'Lente 85mm f/1.4', 1, 'Raquel', 9989, 9989)\n",
            "(datetime.datetime(2020, 1, 27, 0, 0), 'Canon 6D Mark II', 2, 'Fernanda', 8500, 17000)\n",
            "(datetime.datetime(2020, 1, 27, 0, 0), 'Filtro ND 2 Stop', 1, 'Carlos', 1220, 1220)\n",
            "(datetime.datetime(2020, 1, 28, 0, 0), 'Canon 5D Mark III', 1, 'Fernanda', 13650, 13650)\n",
            "(datetime.datetime(2020, 1, 28, 0, 0), 'Canon 6D Mark II', 1, 'Theo', 8500, 8500)\n",
            "(datetime.datetime(2020, 1, 28, 0, 0), 'DJI Mavic Air 2', 2, 'Theo', 13580, 27160)\n",
            "(datetime.datetime(2020, 1, 28, 0, 0), 'Canon 6D Mark II', 1, 'Carlos', 8500, 8500)\n",
            "(datetime.datetime(2020, 1, 28, 0, 0), 'Filtro ND 2 Stop', 1, 'Raquel', 1220, 1220)\n",
            "(datetime.datetime(2020, 1, 28, 0, 0), 'Canon 5D Mark III', 2, 'Theo', 13650, 27300)\n",
            "(datetime.datetime(2020, 1, 28, 0, 0), 'DJI Mavic Air 2', 1, 'Carlos', 13580, 13580)\n",
            "(datetime.datetime(2020, 1, 28, 0, 0), 'Filtro ND 5 Stop', 2, 'Raquel', 1220, 2440)\n",
            "(datetime.datetime(2020, 1, 28, 0, 0), 'Filtro ND 3 Stop', 1, 'Raquel', 1220, 1220)\n",
            "(datetime.datetime(2020, 1, 29, 0, 0), 'DJI Ronin-S', 2, 'Fernanda', 5790, 11580)\n",
            "(datetime.datetime(2020, 1, 29, 0, 0), 'Canon 6D Mark II', 1, 'Theo', 8500, 8500)\n",
            "(datetime.datetime(2020, 1, 29, 0, 0), 'Filtro ND 5 Stop', 2, 'Theo', 1220, 2440)\n",
            "(datetime.datetime(2020, 1, 29, 0, 0), 'Lente 16-35mm f/2.8', 2, 'Theo', 8997, 17994)\n",
            "(datetime.datetime(2020, 1, 29, 0, 0), 'Filtro ND 2 Stop', 1, 'Fernanda', 1220, 1220)\n",
            "(datetime.datetime(2020, 1, 30, 0, 0), 'Filtro ND 3 Stop', 2, 'Fernanda', 1220, 2440)\n",
            "(datetime.datetime(2020, 1, 30, 0, 0), 'Filtro ND 5 Stop', 2, 'Raquel', 1220, 2440)\n"
          ]
        }
      ]
    }
  ]
}