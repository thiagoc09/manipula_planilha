{
  "nbformat": 4,
  "nbformat_minor": 0,
  "metadata": {
    "colab": {
      "name": "carregando_planilhas.ipynb",
      "provenance": [],
      "authorship_tag": "ABX9TyPdvjWOkClOzxsjS2rt631R"
    },
    "kernelspec": {
      "name": "python3",
      "display_name": "Python 3"
    },
    "language_info": {
      "name": "python"
    }
  },
  "cells": [
    {
      "cell_type": "code",
      "execution_count": 1,
      "metadata": {
        "id": "jrEBOCVRpfTh"
      },
      "outputs": [],
      "source": [
        "\n",
        "#atualizando o pacote\n",
        "!pip install -U openpyxl -q "
      ]
    },
    {
      "cell_type": "markdown",
      "source": [
        "Vamos criar um objeto do tipo Workbook, e associá-lo à variável workbook.\n",
        "\n",
        "Dentro de um workbook, podemos ter diferentes *sheets*. Apesar da tradução livre para sheet ser planilha, aqui, vamos trabalhar as **abas** da planilha. \n",
        "\n",
        "Sempre precisamos definir qual a aba que será ativada e utilizada. Passando somente o padrão `active`, ele abrirá a primeira aba, aquela que aparece quando abrimos o arquivo. Vamos ver mais pra frente, como fazer para trabalhar com planilhas com variadas abas"
      ],
      "metadata": {
        "id": "xcBcHt9Bp7OA"
      }
    },
    {
      "cell_type": "code",
      "source": [
        "#importando a lib\n",
        "from openpyxl import Workbook\n",
        "#Criando o workbook / planilha\n",
        "workbook = Workbook()\n",
        "#Selecionando a aba\n",
        "sheet = workbook.active\n"
      ],
      "metadata": {
        "id": "3Gk_5meOp_DY"
      },
      "execution_count": 5,
      "outputs": []
    },
    {
      "cell_type": "code",
      "source": [
        "# acessando as células A1 e B1 e associando valores a elas\n",
        "sheet['A1'] = 'hello'\n",
        "sheet['B1'] = 'world'\n",
        "\n",
        "# para salvar as alterações, utilizar o comando abaixo\n",
        "workbook.save(filename='helloworld.xlsx')"
      ],
      "metadata": {
        "id": "fLdehbIOqiz5"
      },
      "execution_count": null,
      "outputs": []
    },
    {
      "cell_type": "code",
      "source": [
        "# acessando as células A1 e B1 e associando valores a elas\n",
        "sheet['A1']='Hello'\n",
        "sheet['B1']='World'\n",
        "\n",
        "# para salvar as alterações, utilizar o comando abaixo\n",
        "workbook.save(filename='helloworld.xlsx')"
      ],
      "metadata": {
        "id": "K8xXpCv-qkMV"
      },
      "execution_count": 3,
      "outputs": []
    },
    {
      "cell_type": "code",
      "source": [
        "from openpyxl import load_workbook\n",
        "\n",
        "workbook = load_workbook(filename='controle_da_empresa.xlsx')\n",
        "\n",
        "workbook.sheetnames"
      ],
      "metadata": {
        "colab": {
          "base_uri": "https://localhost:8080/"
        },
        "id": "3FIj6jmewk-E",
        "outputId": "7b3ef0a5-b51f-4309-a644-4cd0167a655b"
      },
      "execution_count": 7,
      "outputs": [
        {
          "output_type": "execute_result",
          "data": {
            "text/plain": [
              "['Estoque', 'Vendas', 'Funcionários']"
            ]
          },
          "metadata": {},
          "execution_count": 7
        }
      ]
    },
    {
      "cell_type": "code",
      "source": [
        "# selecionando a aba ativa\n",
        "sheet = workbook['Vendas']\n",
        "\n",
        "# verificando a aba aberta\n",
        "sheet.title"
      ],
      "metadata": {
        "colab": {
          "base_uri": "https://localhost:8080/",
          "height": 35
        },
        "id": "ro3FCT56z5pY",
        "outputId": "230ddced-268c-491a-914a-69b29f561ef7"
      },
      "execution_count": 8,
      "outputs": [
        {
          "output_type": "execute_result",
          "data": {
            "text/plain": [
              "'Vendas'"
            ],
            "application/vnd.google.colaboratory.intrinsic+json": {
              "type": "string"
            }
          },
          "metadata": {},
          "execution_count": 8
        }
      ]
    },
    {
      "cell_type": "code",
      "source": [
        "sheet['F10'].value"
      ],
      "metadata": {
        "colab": {
          "base_uri": "https://localhost:8080/"
        },
        "id": "PnvtyyTdz_-k",
        "outputId": "c7952abb-699b-45d9-d34f-76cd70403498"
      },
      "execution_count": 9,
      "outputs": [
        {
          "output_type": "execute_result",
          "data": {
            "text/plain": [
              "17994"
            ]
          },
          "metadata": {},
          "execution_count": 9
        }
      ]
    },
    {
      "cell_type": "code",
      "source": [
        "sheet.cell(row=10, column=6).value\n"
      ],
      "metadata": {
        "colab": {
          "base_uri": "https://localhost:8080/"
        },
        "id": "iJbfwG0U0De3",
        "outputId": "9c4e4c37-1ad6-46dd-874e-fb1749336314"
      },
      "execution_count": 10,
      "outputs": [
        {
          "output_type": "execute_result",
          "data": {
            "text/plain": [
              "17994"
            ]
          },
          "metadata": {},
          "execution_count": 10
        }
      ]
    },
    {
      "cell_type": "markdown",
      "source": [
        "\n",
        "\n",
        "read_only tem por padrão False, o que nos possibilita manipular os dados.\n",
        "\n",
        "data_only também recebe por padrão o argumento False. Caso seja passado True, qualquer célula que tenha fórmula, transmitirá somente o valor resultante da ação executada pela fórmula, sem aparesentar a mesma."
      ],
      "metadata": {
        "id": "Y1bk1GN00T3M"
      }
    }
  ]
}